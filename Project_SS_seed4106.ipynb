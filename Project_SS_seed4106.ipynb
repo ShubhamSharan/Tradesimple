{
 "cells": [
  {
   "cell_type": "markdown",
   "source": "# Tradesimple AI project\n\nIdentifying future prospects of a company is hard to grasp from past endeavors only. The earliest signs come in the form of chatter in the media and amongst individuals. As students in our early 20’s, we can leverage the power of compounding. Though, investing in the stock market can be very intimidating for younger individuals just starting their careers. We are looking for assurance that the money we invest will be able to grow over the years. ",
   "metadata": {
    "cell_id": "00000-2da2737b-250b-4618-b803-d871d006e7c0",
    "deepnote_cell_type": "markdown"
   }
  },
  {
   "cell_type": "code",
   "metadata": {
    "tags": [],
    "output_cleared": false,
    "source_hash": "30da909c",
    "execution_millis": 1132,
    "deepnote_to_be_reexecuted": false,
    "is_code_hidden": false,
    "cell_id": "00001-0e510711-2537-4682-93c8-dd7924aa9dca",
    "execution_start": 1618344616033,
    "deepnote_cell_type": "code"
   },
   "source": "import pandas as pd\nimport yfinance as yf\nimport seaborn as sns\nimport matplotlib.pyplot as plt\nimport pandas_datareader as web\nimport datetime as dt\nimport numpy as np\nfrom numpy import random\nimport math\nimport quantstats as qs\nimport seaborn as sns\nfrom matplotlib.gridspec import GridSpec",
   "execution_count": null,
   "outputs": []
  },
  {
   "cell_type": "code",
   "metadata": {
    "tags": [],
    "deepnote_to_be_reexecuted": false,
    "source_hash": "c1007544",
    "execution_millis": 8,
    "cell_id": "00002-5175bf0d-f32a-49e9-937f-3e82dabf25ee",
    "execution_start": 1618344617172,
    "deepnote_cell_type": "code"
   },
   "source": "# Inspiration: https://ark-invest.com/articles/analyst-research/tesla-price-target-2/?utm_content=158811503&utm_medium=social&utm_source=linkedin&hss_channel=lcp-5103566&fbclid=IwAR3U49VCassNb20jWyDUb1RUa3cY5dBbdW4eH8CcSNtxdGxOUvU262w4e3c\n# Source: https://www.investopedia.com/terms/m/montecarlosimulation.asp\n'''INPUT______________\nportfolio_data: Is the stock price data that has been collected since today\nticker: What ticker we are simulating\nnum_days: How many days to simulate\nsimulation_count: How many simulations to run\ncolor: What color to use to visualise the graph\nOUTPUT_____________\n'''\n\n\n# Here we will use the adjusted close price as it is a better representation of the value of the stock\ndef monteCarloSim(ticker, num_days, simulation_count,start, end):\n    portfolio_data = web.DataReader(ticker,'yahoo', start, end)['Open']\n    volatility = portfolio_data.pct_change().std()# Might switch it to log return .apply(lambda x: np.log(1 + x))\n    lastprice = portfolio_data.loc[start]\n    last_price_date = portfolio_data.index[0]\n    drift = portfolio_data.pct_change().mean() - (portfolio_data.pct_change().var()/2)\n    date_list = [last_price_date + dt.timedelta(days=x) for x in range(num_days+1)][1:]\n    sim_df = pd.DataFrame(index = date_list)\n    np.random.seed(4106)\n    for i in range(simulation_count): # We multiple simulations \n        priceseries = list()\n        for y in range(num_days):\n            shock = (np.random.normal(0,volatility))\n            if y == 0:\n                price = lastprice * math.exp(drift + shock) # ​Next Day’s Price=Today’s Price × e^(Drift+Random Value)\n                priceseries.append(price)\n            else:\n                price = max(0, priceseries[y-1] * math.exp(drift + shock)) # ​Next Day’s Price=Today’s Price × e^(Drift+Random Value)\n                priceseries.append(price)\n        sim_df[i] = priceseries\n    # print(\"Blue Mean Cummulative Return \",ticker,\": \",sim_df.pct_change().mean().sum() * 100, \"%\")\n    # plt.figure(figsize=(12,5))\n    # plt.title(ticker)\n    # g = sns.histplot(sim_df.pct_change().sum()*100,kde = True, bins = 10, label=ticker)\n    # g.axvline(sim_df.pct_change().sum().mean() * 100, color=\"blue\")\n    \n    # sim_df.plot(figsize=(12,10), linestyle=\"dashed\", label=\"sum\", legend = False, title=ticker)\n    mean = qs.stats.sharpe(sim_df).mean()\n    sharpes = qs.stats.sharpe(sim_df).sort_values()\n    bull = sharpes[sharpes >= mean].reset_index()['index']\n    bull = bull[np.random.randint(0,bull.size)]\n\n    bear = sharpes[sharpes < mean].reset_index()['index']\n    bear = bear[np.random.randint(0,bear.size)]\n    # print(\"Bear : \",qs.stats.sharpe(sim_df[bear]))\n    # print(\"Mean : \",mean)\n    # print(\"Bull : \",qs.stats.sharpe(sim_df[bull]))\n    # g.axvline(sim_df[bear].pct_change().sum() * 100, color=\"green\")\n    # g.axvline(sim_df[bull].pct_change().sum() * 100, color=\"green\")\n    # plt.show()\n    \n\n\n    return qs.stats.sharpe(sim_df[bear]), qs.stats.sharpe(sim_df[bull])\n\n# start = dt.datetime(2019,11,27)\n# end = start + dt.timedelta(days=14)\n# monteCarloSim(\"TSLA\", 14, 400, start, end)",
   "execution_count": null,
   "outputs": []
  },
  {
   "cell_type": "markdown",
   "source": "## Reinforcement Learning ",
   "metadata": {
    "tags": [],
    "cell_id": "00003-d6ef1562-6bf8-41d2-b74e-1f48a300806c",
    "deepnote_cell_type": "markdown"
   }
  },
  {
   "cell_type": "code",
   "metadata": {
    "tags": [],
    "deepnote_to_be_reexecuted": false,
    "source_hash": null,
    "execution_millis": 345214,
    "output_cleared": true,
    "cell_id": "00004-0838c462-595a-499c-89a6-d6ee007525bc",
    "execution_start": 1618344617181,
    "deepnote_cell_type": "code"
   },
   "source": "start = dt.datetime(2019,10,1)\nstart_predicting = dt.datetime(2019,11,5)\nend = dt.datetime(2020,10,30)\ndf = web.DataReader('TSLA','yahoo', start, end)\ndf['Bearish Sharpe Ratio'], df['Bullish Sharpe Ratio'] = [0, 0]\ncount = 0\nfor i, row in df.iterrows():\n    if i >= start_predicting:\n        start = df.index[count - 14] \n        print(count,\" : \",start, i)\n        df['Bearish Sharpe Ratio'].loc[i], df['Bullish Sharpe Ratio'].loc[i] = monteCarloSim(\"TSLA\", 14, 150, start, i)\n    count +=1\ndf # Takes 4 minutes\n",
   "execution_count": null,
   "outputs": []
  },
  {
   "cell_type": "code",
   "metadata": {
    "tags": [],
    "deepnote_to_be_reexecuted": false,
    "source_hash": "fa14fcc7",
    "execution_millis": 82,
    "cell_id": "00005-3a749670-5224-4d64-8d20-2dbf2fe01a50",
    "execution_start": 1618344962394,
    "deepnote_cell_type": "code"
   },
   "source": "# Data Preparation with Sentiment\nsentiment_df = pd.read_csv(\"sentimentInformation.csv\") \nsentiment_df = sentiment_df[['Date', 'Result']]\nsentiment_df['Date'] = pd.to_datetime(sentiment_df['Date'])\nsentiment_df = sentiment_df.set_index('Date')\njoined_df = df.join(sentiment_df, how = 'inner').sort_index() # removing data from weekends when there is no trading\njoined_df",
   "execution_count": null,
   "outputs": [
    {
     "output_type": "execute_result",
     "execution_count": 4,
     "data": {
      "application/vnd.deepnote.dataframe.v2+json": {
       "row_count": 124,
       "column_count": 9,
       "columns": [
        {
         "name": "High",
         "dtype": "float64",
         "stats": {
          "unique_count": 123,
          "nan_count": 0,
          "min": "64.7020034790039",
          "max": "502.489990234375",
          "histogram": [
           {
            "bin_start": 64.7020034790039,
            "bin_end": 108.48080215454101,
            "count": 26
           },
           {
            "bin_start": 108.48080215454101,
            "bin_end": 152.2596008300781,
            "count": 17
           },
           {
            "bin_start": 152.2596008300781,
            "bin_end": 196.03839950561525,
            "count": 15
           },
           {
            "bin_start": 196.03839950561525,
            "bin_end": 239.81719818115235,
            "count": 6
           },
           {
            "bin_start": 239.81719818115235,
            "bin_end": 283.59599685668945,
            "count": 3
           },
           {
            "bin_start": 283.59599685668945,
            "bin_end": 327.3747955322266,
            "count": 11
           },
           {
            "bin_start": 327.3747955322266,
            "bin_end": 371.15359420776366,
            "count": 7
           },
           {
            "bin_start": 371.15359420776366,
            "bin_end": 414.9323928833008,
            "count": 8
           },
           {
            "bin_start": 414.9323928833008,
            "bin_end": 458.7111915588379,
            "count": 25
           },
           {
            "bin_start": 458.7111915588379,
            "bin_end": 502.489990234375,
            "count": 6
           }
          ]
         }
        },
        {
         "name": "Low",
         "dtype": "float64",
         "stats": {
          "unique_count": 124,
          "nan_count": 0,
          "min": "63.2239990234375",
          "max": "470.510009765625",
          "histogram": [
           {
            "bin_start": 63.2239990234375,
            "bin_end": 103.95260009765624,
            "count": 27
           },
           {
            "bin_start": 103.95260009765624,
            "bin_end": 144.681201171875,
            "count": 18
           },
           {
            "bin_start": 144.681201171875,
            "bin_end": 185.40980224609376,
            "count": 14
           },
           {
            "bin_start": 185.40980224609376,
            "bin_end": 226.1384033203125,
            "count": 5
           },
           {
            "bin_start": 226.1384033203125,
            "bin_end": 266.86700439453125,
            "count": 3
           },
           {
            "bin_start": 266.86700439453125,
            "bin_end": 307.59560546875,
            "count": 13
           },
           {
            "bin_start": 307.59560546875,
            "bin_end": 348.32420654296874,
            "count": 5
           },
           {
            "bin_start": 348.32420654296874,
            "bin_end": 389.0528076171875,
            "count": 9
           },
           {
            "bin_start": 389.0528076171875,
            "bin_end": 429.7814086914063,
            "count": 21
           },
           {
            "bin_start": 429.7814086914063,
            "bin_end": 470.510009765625,
            "count": 9
           }
          ]
         }
        },
        {
         "name": "Open",
         "dtype": "float64",
         "stats": {
          "unique_count": 124,
          "nan_count": 0,
          "min": "63.92399978637695",
          "max": "502.1400146484375",
          "histogram": [
           {
            "bin_start": 63.92399978637695,
            "bin_end": 107.745601272583,
            "count": 28
           },
           {
            "bin_start": 107.745601272583,
            "bin_end": 151.56720275878905,
            "count": 17
           },
           {
            "bin_start": 151.56720275878905,
            "bin_end": 195.38880424499513,
            "count": 13
           },
           {
            "bin_start": 195.38880424499513,
            "bin_end": 239.21040573120118,
            "count": 6
           },
           {
            "bin_start": 239.21040573120118,
            "bin_end": 283.0320072174072,
            "count": 5
           },
           {
            "bin_start": 283.0320072174072,
            "bin_end": 326.8536087036133,
            "count": 10
           },
           {
            "bin_start": 326.8536087036133,
            "bin_end": 370.6752101898193,
            "count": 7
           },
           {
            "bin_start": 370.6752101898193,
            "bin_end": 414.4968116760254,
            "count": 13
           },
           {
            "bin_start": 414.4968116760254,
            "bin_end": 458.3184131622315,
            "count": 22
           },
           {
            "bin_start": 458.3184131622315,
            "bin_end": 502.1400146484375,
            "count": 3
           }
          ]
         }
        },
        {
         "name": "Close",
         "dtype": "float64",
         "stats": {
          "unique_count": 124,
          "nan_count": 0,
          "min": "63.444000244140625",
          "max": "498.32000732421875",
          "histogram": [
           {
            "bin_start": 63.444000244140625,
            "bin_end": 106.93160095214844,
            "count": 27
           },
           {
            "bin_start": 106.93160095214844,
            "bin_end": 150.41920166015626,
            "count": 17
           },
           {
            "bin_start": 150.41920166015626,
            "bin_end": 193.90680236816405,
            "count": 17
           },
           {
            "bin_start": 193.90680236816405,
            "bin_end": 237.39440307617187,
            "count": 3
           },
           {
            "bin_start": 237.39440307617187,
            "bin_end": 280.8820037841797,
            "count": 5
           },
           {
            "bin_start": 280.8820037841797,
            "bin_end": 324.3696044921875,
            "count": 12
           },
           {
            "bin_start": 324.3696044921875,
            "bin_end": 367.8572052001953,
            "count": 4
           },
           {
            "bin_start": 367.8572052001953,
            "bin_end": 411.3448059082031,
            "count": 11
           },
           {
            "bin_start": 411.3448059082031,
            "bin_end": 454.8324066162109,
            "count": 25
           },
           {
            "bin_start": 454.8324066162109,
            "bin_end": 498.32000732421875,
            "count": 3
           }
          ]
         }
        },
        {
         "name": "Volume",
         "dtype": "float64",
         "stats": {
          "unique_count": 124,
          "nan_count": 0,
          "min": "12328000.0",
          "max": "304694000.0",
          "histogram": [
           {
            "bin_start": 12328000,
            "bin_end": 41564600,
            "count": 20
           },
           {
            "bin_start": 41564600,
            "bin_end": 70801200,
            "count": 31
           },
           {
            "bin_start": 70801200,
            "bin_end": 100037800,
            "count": 40
           },
           {
            "bin_start": 100037800,
            "bin_end": 129274400,
            "count": 22
           },
           {
            "bin_start": 129274400,
            "bin_end": 158511000,
            "count": 7
           },
           {
            "bin_start": 158511000,
            "bin_end": 187747600,
            "count": 0
           },
           {
            "bin_start": 187747600,
            "bin_end": 216984200,
            "count": 1
           },
           {
            "bin_start": 216984200,
            "bin_end": 246220800,
            "count": 2
           },
           {
            "bin_start": 246220800,
            "bin_end": 275457400,
            "count": 0
           },
           {
            "bin_start": 275457400,
            "bin_end": 304694000,
            "count": 1
           }
          ]
         }
        },
        {
         "name": "Adj Close",
         "dtype": "float64",
         "stats": {
          "unique_count": 124,
          "nan_count": 0,
          "min": "63.444000244140625",
          "max": "498.32000732421875",
          "histogram": [
           {
            "bin_start": 63.444000244140625,
            "bin_end": 106.93160095214844,
            "count": 27
           },
           {
            "bin_start": 106.93160095214844,
            "bin_end": 150.41920166015626,
            "count": 17
           },
           {
            "bin_start": 150.41920166015626,
            "bin_end": 193.90680236816405,
            "count": 17
           },
           {
            "bin_start": 193.90680236816405,
            "bin_end": 237.39440307617187,
            "count": 3
           },
           {
            "bin_start": 237.39440307617187,
            "bin_end": 280.8820037841797,
            "count": 5
           },
           {
            "bin_start": 280.8820037841797,
            "bin_end": 324.3696044921875,
            "count": 12
           },
           {
            "bin_start": 324.3696044921875,
            "bin_end": 367.8572052001953,
            "count": 4
           },
           {
            "bin_start": 367.8572052001953,
            "bin_end": 411.3448059082031,
            "count": 11
           },
           {
            "bin_start": 411.3448059082031,
            "bin_end": 454.8324066162109,
            "count": 25
           },
           {
            "bin_start": 454.8324066162109,
            "bin_end": 498.32000732421875,
            "count": 3
           }
          ]
         }
        },
        {
         "name": "Bearish Sharpe Ratio",
         "dtype": "float64",
         "stats": {
          "unique_count": 124,
          "nan_count": 0,
          "min": "-11.865294331131533",
          "max": "14.211962942052233",
          "histogram": [
           {
            "bin_start": -11.865294331131533,
            "bin_end": -9.257568603813157,
            "count": 6
           },
           {
            "bin_start": -9.257568603813157,
            "bin_end": -6.6498428764947795,
            "count": 12
           },
           {
            "bin_start": -6.6498428764947795,
            "bin_end": -4.042117149176402,
            "count": 22
           },
           {
            "bin_start": -4.042117149176402,
            "bin_end": -1.4343914218580256,
            "count": 23
           },
           {
            "bin_start": -1.4343914218580256,
            "bin_end": 1.173334305460351,
            "count": 20
           },
           {
            "bin_start": 1.173334305460351,
            "bin_end": 3.781060032778729,
            "count": 30
           },
           {
            "bin_start": 3.781060032778729,
            "bin_end": 6.388785760097104,
            "count": 9
           },
           {
            "bin_start": 6.388785760097104,
            "bin_end": 8.996511487415482,
            "count": 0
           },
           {
            "bin_start": 8.996511487415482,
            "bin_end": 11.60423721473386,
            "count": 0
           },
           {
            "bin_start": 11.60423721473386,
            "bin_end": 14.211962942052233,
            "count": 2
           }
          ]
         }
        },
        {
         "name": "Bullish Sharpe Ratio",
         "dtype": "float64",
         "stats": {
          "unique_count": 124,
          "nan_count": 0,
          "min": "-4.487260611784988",
          "max": "26.804233999370535",
          "histogram": [
           {
            "bin_start": -4.487260611784988,
            "bin_end": -1.358111150669436,
            "count": 8
           },
           {
            "bin_start": -1.358111150669436,
            "bin_end": 1.7710383104461158,
            "count": 26
           },
           {
            "bin_start": 1.7710383104461158,
            "bin_end": 4.900187771561667,
            "count": 29
           },
           {
            "bin_start": 4.900187771561667,
            "bin_end": 8.02933723267722,
            "count": 19
           },
           {
            "bin_start": 8.02933723267722,
            "bin_end": 11.158486693792772,
            "count": 34
           },
           {
            "bin_start": 11.158486693792772,
            "bin_end": 14.287636154908322,
            "count": 6
           },
           {
            "bin_start": 14.287636154908322,
            "bin_end": 17.416785616023873,
            "count": 1
           },
           {
            "bin_start": 17.416785616023873,
            "bin_end": 20.545935077139426,
            "count": 0
           },
           {
            "bin_start": 20.545935077139426,
            "bin_end": 23.67508453825498,
            "count": 0
           },
           {
            "bin_start": 23.67508453825498,
            "bin_end": 26.804233999370535,
            "count": 1
           }
          ]
         }
        },
        {
         "name": "Result",
         "dtype": "float64",
         "stats": {
          "unique_count": 3,
          "nan_count": 0,
          "min": "-1.0",
          "max": "1.0",
          "histogram": [
           {
            "bin_start": -1,
            "bin_end": -0.8,
            "count": 18
           },
           {
            "bin_start": -0.8,
            "bin_end": -0.6,
            "count": 0
           },
           {
            "bin_start": -0.6,
            "bin_end": -0.3999999999999999,
            "count": 0
           },
           {
            "bin_start": -0.3999999999999999,
            "bin_end": -0.19999999999999996,
            "count": 0
           },
           {
            "bin_start": -0.19999999999999996,
            "bin_end": 0,
            "count": 0
           },
           {
            "bin_start": 0,
            "bin_end": 0.20000000000000018,
            "count": 30
           },
           {
            "bin_start": 0.20000000000000018,
            "bin_end": 0.40000000000000013,
            "count": 0
           },
           {
            "bin_start": 0.40000000000000013,
            "bin_end": 0.6000000000000001,
            "count": 0
           },
           {
            "bin_start": 0.6000000000000001,
            "bin_end": 0.8,
            "count": 0
           },
           {
            "bin_start": 0.8,
            "bin_end": 1,
            "count": 76
           }
          ]
         }
        },
        {
         "name": "_deepnote_index_column",
         "dtype": "datetime64[ns]"
        }
       ],
       "rows_top": [
        {
         "High": 64.7020034790039,
         "Low": 63.2239990234375,
         "Open": 63.92399978637695,
         "Close": 63.444000244140625,
         "Volume": 34717000,
         "Adj Close": 63.444000244140625,
         "Bearish Sharpe Ratio": -0.40203267732668524,
         "Bullish Sharpe Ratio": 6.877431569188253,
         "Result": 1,
         "_deepnote_index_column": "2019-11-05T00:00:00.000000"
        },
        {
         "High": 68.30000305175781,
         "Low": 65.60399627685547,
         "Open": 65.8280029296875,
         "Close": 67.10800170898438,
         "Volume": 72336500,
         "Adj Close": 67.10800170898438,
         "Bearish Sharpe Ratio": -0.09369615871038191,
         "Bullish Sharpe Ratio": 7.1379655043040495,
         "Result": 0,
         "_deepnote_index_column": "2019-11-07T00:00:00.000000"
        },
        {
         "High": 71.26599884033203,
         "Low": 69.03600311279297,
         "Open": 71,
         "Close": 69.22200012207031,
         "Volume": 42100500,
         "Adj Close": 69.22200012207031,
         "Bearish Sharpe Ratio": 1.5164949503288219,
         "Bullish Sharpe Ratio": 8.572673699195878,
         "Result": 0,
         "_deepnote_index_column": "2019-11-13T00:00:00.000000"
        },
        {
         "High": 72.16799926757812,
         "Low": 70.80000305175781,
         "Open": 70.9020004272461,
         "Close": 70.96600341796875,
         "Volume": 30550000,
         "Adj Close": 70.96600341796875,
         "Bearish Sharpe Ratio": 2.4533944300060075,
         "Bullish Sharpe Ratio": 9.5022988045285,
         "Result": -1,
         "_deepnote_index_column": "2019-11-21T00:00:00.000000"
        },
        {
         "High": 66.25199890136719,
         "Low": 65.5,
         "Open": 66.22200012207031,
         "Close": 65.98799896240234,
         "Volume": 12328000,
         "Adj Close": 65.98799896240234,
         "Bearish Sharpe Ratio": -5.365439423272877,
         "Bullish Sharpe Ratio": 1.063480308768263,
         "Result": -1,
         "_deepnote_index_column": "2019-11-29T00:00:00.000000"
        },
        {
         "High": 67.77200317382812,
         "Low": 66.9540023803711,
         "Open": 67,
         "Close": 67.1780014038086,
         "Volume": 38062000,
         "Adj Close": 67.1780014038086,
         "Bearish Sharpe Ratio": -8.004034212416949,
         "Bullish Sharpe Ratio": -1.4212416556609828,
         "Result": 1,
         "_deepnote_index_column": "2019-12-06T00:00:00.000000"
        },
        {
         "High": 72.5479965209961,
         "Low": 70.64600372314453,
         "Open": 70.98400115966797,
         "Close": 71.93599700927734,
         "Volume": 38819500,
         "Adj Close": 71.93599700927734,
         "Bearish Sharpe Ratio": -4.84676779636146,
         "Bullish Sharpe Ratio": 1.518990892721221,
         "Result": 0,
         "_deepnote_index_column": "2019-12-12T00:00:00.000000"
        },
        {
         "High": 79.04399871826172,
         "Low": 76.11599731445312,
         "Open": 76.1259994506836,
         "Close": 78.62999725341797,
         "Volume": 70605000,
         "Adj Close": 78.62999725341797,
         "Bearish Sharpe Ratio": 5.04203283351745,
         "Bullish Sharpe Ratio": 12.444898839707248,
         "Result": 1,
         "_deepnote_index_column": "2019-12-18T00:00:00.000000"
        },
        {
         "High": 81.37000274658203,
         "Low": 79.30000305175781,
         "Open": 79.46399688720703,
         "Close": 80.80799865722656,
         "Volume": 90535500,
         "Adj Close": 80.80799865722656,
         "Bearish Sharpe Ratio": 6.294200983634193,
         "Bullish Sharpe Ratio": 14.11380850596718,
         "Result": 1,
         "_deepnote_index_column": "2019-12-19T00:00:00.000000"
        },
        {
         "High": 85.09400177001953,
         "Low": 82.53800201416016,
         "Open": 83.6719970703125,
         "Close": 85.05000305175781,
         "Volume": 40273500,
         "Adj Close": 85.05000305175781,
         "Bearish Sharpe Ratio": 14.211962942052233,
         "Bullish Sharpe Ratio": 16.47768785789405,
         "Result": 0,
         "_deepnote_index_column": "2019-12-24T00:00:00.000000"
        },
        {
         "High": 86.69599914550781,
         "Low": 85.2699966430664,
         "Open": 85.58200073242188,
         "Close": 86.18800354003906,
         "Volume": 53169500,
         "Adj Close": 86.18800354003906,
         "Bearish Sharpe Ratio": 12.826854196826684,
         "Bullish Sharpe Ratio": 26.804233999370535,
         "Result": 1,
         "_deepnote_index_column": "2019-12-26T00:00:00.000000"
        },
        {
         "High": 86.13999938964844,
         "Low": 84.34200286865234,
         "Open": 84.9000015258789,
         "Close": 86.052001953125,
         "Volume": 47660500,
         "Adj Close": 86.052001953125,
         "Bearish Sharpe Ratio": 2.982777202233484,
         "Bullish Sharpe Ratio": 9.929611609078803,
         "Result": -1,
         "_deepnote_index_column": "2020-01-02T00:00:00.000000"
        },
        {
         "High": 90.80000305175781,
         "Low": 87.38400268554688,
         "Open": 88.0999984741211,
         "Close": 88.60199737548828,
         "Volume": 88892500,
         "Adj Close": 88.60199737548828,
         "Bearish Sharpe Ratio": 3.898306112830458,
         "Bullish Sharpe Ratio": 10.92119409358722,
         "Result": 1,
         "_deepnote_index_column": "2020-01-03T00:00:00.000000"
        },
        {
         "High": 90.31199645996094,
         "Low": 88,
         "Open": 88.09400177001953,
         "Close": 90.30799865722656,
         "Volume": 50665000,
         "Adj Close": 90.30799865722656,
         "Bearish Sharpe Ratio": 3.200673560589425,
         "Bullish Sharpe Ratio": 10.135715158579464,
         "Result": 1,
         "_deepnote_index_column": "2020-01-06T00:00:00.000000"
        },
        {
         "High": 99.697998046875,
         "Low": 93.64600372314453,
         "Open": 94.73999786376953,
         "Close": 98.4280014038086,
         "Volume": 155721500,
         "Adj Close": 98.4280014038086,
         "Bearish Sharpe Ratio": 3.982164048936597,
         "Bullish Sharpe Ratio": 11.05892702646338,
         "Result": 1,
         "_deepnote_index_column": "2020-01-08T00:00:00.000000"
        },
        {
         "High": 99.76000213623047,
         "Low": 94.5739974975586,
         "Open": 99.41999816894531,
         "Close": 96.26799774169922,
         "Volume": 142202000,
         "Adj Close": 96.26799774169922,
         "Bearish Sharpe Ratio": 5.157173616704896,
         "Bullish Sharpe Ratio": 12.518358921591831,
         "Result": 1,
         "_deepnote_index_column": "2020-01-09T00:00:00.000000"
        },
        {
         "High": 105.1259994506836,
         "Low": 98.4000015258789,
         "Open": 98.69999694824219,
         "Close": 104.97200012207031,
         "Volume": 132588000,
         "Adj Close": 104.97200012207031,
         "Bearish Sharpe Ratio": 1.8701897830709964,
         "Bullish Sharpe Ratio": 8.822349406333467,
         "Result": 1,
         "_deepnote_index_column": "2020-01-13T00:00:00.000000"
        },
        {
         "High": 102.89199829101562,
         "Low": 98.43399810791016,
         "Open": 98.75,
         "Close": 102.697998046875,
         "Volume": 108683500,
         "Adj Close": 102.697998046875,
         "Bearish Sharpe Ratio": -1.7432805573372934,
         "Bullish Sharpe Ratio": 4.834555661131901,
         "Result": 0,
         "_deepnote_index_column": "2020-01-16T00:00:00.000000"
        },
        {
         "High": 103.13400268554688,
         "Low": 100.63200378417969,
         "Open": 101.52200317382812,
         "Close": 102.0999984741211,
         "Volume": 68145500,
         "Adj Close": 102.0999984741211,
         "Bearish Sharpe Ratio": -1.4106548805505414,
         "Bullish Sharpe Ratio": 5.159536503673655,
         "Result": 1,
         "_deepnote_index_column": "2020-01-17T00:00:00.000000"
        },
        {
         "High": 109.71600341796875,
         "Low": 105.68199920654297,
         "Open": 106.05000305175781,
         "Close": 109.44000244140625,
         "Volume": 89017500,
         "Adj Close": 109.44000244140625,
         "Bearish Sharpe Ratio": 0.21283593418248356,
         "Bullish Sharpe Ratio": 7.32256716439434,
         "Result": 1,
         "_deepnote_index_column": "2020-01-21T00:00:00.000000"
        },
        {
         "High": 116.4000015258789,
         "Low": 111.12000274658203,
         "Open": 112.8499984741211,
         "Close": 114.44000244140625,
         "Volume": 98255000,
         "Adj Close": 114.44000244140625,
         "Bearish Sharpe Ratio": 2.312575391894396,
         "Bullish Sharpe Ratio": 9.139923006337455,
         "Result": 0,
         "_deepnote_index_column": "2020-01-23T00:00:00.000000"
        },
        {
         "High": 117.95999908447266,
         "Low": 113.48600006103516,
         "Open": 115.13800048828125,
         "Close": 116.197998046875,
         "Volume": 89007500,
         "Adj Close": 116.197998046875,
         "Bearish Sharpe Ratio": -0.45422339597848904,
         "Bullish Sharpe Ratio": 6.865094867644162,
         "Result": 1,
         "_deepnote_index_column": "2020-01-29T00:00:00.000000"
        },
        {
         "High": 130.17599487304688,
         "Low": 123.5999984741211,
         "Open": 126.48400115966797,
         "Close": 128.16200256347656,
         "Volume": 145028500,
         "Adj Close": 128.16200256347656,
         "Bearish Sharpe Ratio": 0.2674651104132008,
         "Bullish Sharpe Ratio": 7.355981152628314,
         "Result": -1,
         "_deepnote_index_column": "2020-01-30T00:00:00.000000"
        },
        {
         "High": 157.22799682617188,
         "Low": 134.70399475097656,
         "Open": 134.73800659179688,
         "Close": 156,
         "Volume": 235325000,
         "Adj Close": 156,
         "Bearish Sharpe Ratio": 2.0270466281717563,
         "Bullish Sharpe Ratio": 8.918522661443774,
         "Result": -1,
         "_deepnote_index_column": "2020-02-03T00:00:00.000000"
        },
        {
         "High": 193.79800415039062,
         "Low": 166.7760009765625,
         "Open": 176.5919952392578,
         "Close": 177.41200256347656,
         "Volume": 304694000,
         "Adj Close": 177.41200256347656,
         "Bearish Sharpe Ratio": 1.4477274501222668,
         "Bullish Sharpe Ratio": 8.126734716974543,
         "Result": 1,
         "_deepnote_index_column": "2020-02-04T00:00:00.000000"
        },
        {
         "High": 169.1959991455078,
         "Low": 140.82200622558594,
         "Open": 164.65199279785156,
         "Close": 146.94000244140625,
         "Volume": 242119000,
         "Adj Close": 146.94000244140625,
         "Bearish Sharpe Ratio": 0.6360184647412935,
         "Bullish Sharpe Ratio": 7.5286725002234185,
         "Result": -1,
         "_deepnote_index_column": "2020-02-05T00:00:00.000000"
        },
        {
         "High": 172,
         "Low": 166.4720001220703,
         "Open": 168.32000732421875,
         "Close": 171.67999267578125,
         "Volume": 81908500,
         "Adj Close": 171.67999267578125,
         "Bearish Sharpe Ratio": -0.5305932063664821,
         "Bullish Sharpe Ratio": 6.077418002497074,
         "Result": 1,
         "_deepnote_index_column": "2020-02-18T00:00:00.000000"
        },
        {
         "High": 182.39999389648438,
         "Low": 171.98800659179688,
         "Open": 182.38999938964844,
         "Close": 179.8820037841797,
         "Volume": 88174500,
         "Adj Close": 179.8820037841797,
         "Bearish Sharpe Ratio": -0.875332016804528,
         "Bullish Sharpe Ratio": 5.644088774224122,
         "Result": 1,
         "_deepnote_index_column": "2020-02-20T00:00:00.000000"
        },
        {
         "High": 171.32000732421875,
         "Low": 157.39999389648438,
         "Open": 169.8000030517578,
         "Close": 159.98199462890625,
         "Volume": 86452500,
         "Adj Close": 159.98199462890625,
         "Bearish Sharpe Ratio": -5.344671579364177,
         "Bullish Sharpe Ratio": 1.424771996768666,
         "Result": -1,
         "_deepnote_index_column": "2020-02-25T00:00:00.000000"
        },
        {
         "High": 147.95399475097656,
         "Low": 133.8000030517578,
         "Open": 146,
         "Close": 135.8000030517578,
         "Volume": 121386000,
         "Adj Close": 135.8000030517578,
         "Bearish Sharpe Ratio": -3.9563862294233902,
         "Bullish Sharpe Ratio": 2.3520357592537713,
         "Result": 1,
         "_deepnote_index_column": "2020-02-27T00:00:00.000000"
        },
        {
         "High": 138.10400390625,
         "Low": 122.30400085449219,
         "Open": 125.94000244140625,
         "Close": 133.59800720214844,
         "Volume": 121114500,
         "Adj Close": 133.59800720214844,
         "Bearish Sharpe Ratio": -7.219741019957754,
         "Bullish Sharpe Ratio": -0.48379236271401455,
         "Result": 1,
         "_deepnote_index_column": "2020-02-28T00:00:00.000000"
        },
        {
         "High": 148.73800659179688,
         "Low": 137.33399963378906,
         "Open": 142.2519989013672,
         "Close": 148.7239990234375,
         "Volume": 100975000,
         "Adj Close": 148.7239990234375,
         "Bearish Sharpe Ratio": -6.656271799872035,
         "Bullish Sharpe Ratio": 0.14503849246069225,
         "Result": 1,
         "_deepnote_index_column": "2020-03-02T00:00:00.000000"
        },
        {
         "High": 132.60000610351562,
         "Low": 121,
         "Open": 121.0780029296875,
         "Close": 121.5999984741211,
         "Volume": 85368500,
         "Adj Close": 121.5999984741211,
         "Bearish Sharpe Ratio": -9.695621797177207,
         "Bullish Sharpe Ratio": -2.235540422480375,
         "Result": 1,
         "_deepnote_index_column": "2020-03-09T00:00:00.000000"
        },
        {
         "High": 130.71600341796875,
         "Low": 122.5999984741211,
         "Open": 128.0399932861328,
         "Close": 126.84600067138672,
         "Volume": 66612500,
         "Adj Close": 126.84600067138672,
         "Bearish Sharpe Ratio": -10.237787069066906,
         "Bullish Sharpe Ratio": -2.5717991205104034,
         "Result": -1,
         "_deepnote_index_column": "2020-03-11T00:00:00.000000"
        },
        {
         "High": 94.37000274658203,
         "Low": 79.19999694824219,
         "Open": 88.00199890136719,
         "Close": 86.04000091552734,
         "Volume": 119973000,
         "Adj Close": 86.04000091552734,
         "Bearish Sharpe Ratio": -11.865294331131533,
         "Bullish Sharpe Ratio": -4.487260611784988,
         "Result": 1,
         "_deepnote_index_column": "2020-03-17T00:00:00.000000"
        },
        {
         "High": 90.4000015258789,
         "Low": 71.69200134277344,
         "Open": 74.94000244140625,
         "Close": 85.52799987792969,
         "Volume": 150977500,
         "Adj Close": 85.52799987792969,
         "Bearish Sharpe Ratio": -11.440704513395564,
         "Bullish Sharpe Ratio": -3.6993258211033937,
         "Result": 1,
         "_deepnote_index_column": "2020-03-19T00:00:00.000000"
        },
        {
         "High": 95.4000015258789,
         "Low": 85.15799713134766,
         "Open": 87.63999938964844,
         "Close": 85.50599670410156,
         "Volume": 141427500,
         "Adj Close": 85.50599670410156,
         "Bearish Sharpe Ratio": -10.78549496251234,
         "Bullish Sharpe Ratio": -2.9937583177842604,
         "Result": 1,
         "_deepnote_index_column": "2020-03-20T00:00:00.000000"
        },
        {
         "High": 102.73799896240234,
         "Low": 94.80000305175781,
         "Open": 95.45999908447266,
         "Close": 101,
         "Volume": 114476000,
         "Adj Close": 101,
         "Bearish Sharpe Ratio": -10.816741421905427,
         "Bullish Sharpe Ratio": -3.031588520211463,
         "Result": 1,
         "_deepnote_index_column": "2020-03-24T00:00:00.000000"
        },
        {
         "High": 105.16000366210938,
         "Low": 98.80599975585938,
         "Open": 101,
         "Close": 102.87200164794922,
         "Volume": 71887000,
         "Adj Close": 102.87200164794922,
         "Bearish Sharpe Ratio": -6.638812238814723,
         "Bullish Sharpe Ratio": 0.16521054873278437,
         "Result": 1,
         "_deepnote_index_column": "2020-03-27T00:00:00.000000"
        },
        {
         "High": 108.59200286865234,
         "Low": 99.4000015258789,
         "Open": 100.25,
         "Close": 104.80000305175781,
         "Volume": 88857500,
         "Adj Close": 104.80000305175781,
         "Bearish Sharpe Ratio": -7.36350684559648,
         "Bullish Sharpe Ratio": -0.6049478905083281,
         "Result": 1,
         "_deepnote_index_column": "2020-03-31T00:00:00.000000"
        },
        {
         "High": 98.85199737548828,
         "Low": 89.27999877929688,
         "Open": 96.20600128173828,
         "Close": 90.89399719238281,
         "Volume": 99292000,
         "Adj Close": 90.89399719238281,
         "Bearish Sharpe Ratio": -7.104430511239959,
         "Bullish Sharpe Ratio": -0.31554445801951114,
         "Result": 1,
         "_deepnote_index_column": "2020-04-02T00:00:00.000000"
        },
        {
         "High": 104.19999694824219,
         "Low": 99.59200286865234,
         "Open": 102.23999786376953,
         "Close": 103.24800109863281,
         "Volume": 74509000,
         "Adj Close": 103.24800109863281,
         "Bearish Sharpe Ratio": -2.361561145274479,
         "Bullish Sharpe Ratio": 3.689456621164875,
         "Result": 0,
         "_deepnote_index_column": "2020-04-06T00:00:00.000000"
        },
        {
         "High": 130.39999389648438,
         "Low": 116.10600280761719,
         "Open": 118.03199768066406,
         "Close": 130.19000244140625,
         "Volume": 112377000,
         "Adj Close": 130.19000244140625,
         "Bearish Sharpe Ratio": 1.4001637976470518,
         "Bullish Sharpe Ratio": 8.282381762949521,
         "Result": 1,
         "_deepnote_index_column": "2020-04-13T00:00:00.000000"
        },
        {
         "High": 148.37600708007812,
         "Low": 138.48599243164062,
         "Open": 139.79400634765625,
         "Close": 141.97799682617188,
         "Volume": 152882500,
         "Adj Close": 141.97799682617188,
         "Bearish Sharpe Ratio": 1.6079093618917928,
         "Bullish Sharpe Ratio": 8.40864658882817,
         "Result": -1,
         "_deepnote_index_column": "2020-04-14T00:00:00.000000"
        },
        {
         "High": 151.88999938964844,
         "Low": 141.343994140625,
         "Open": 143.38800048828125,
         "Close": 149.04200744628906,
         "Volume": 103289500,
         "Adj Close": 149.04200744628906,
         "Bearish Sharpe Ratio": -0.08827060414927371,
         "Bullish Sharpe Ratio": 7.143061033826075,
         "Result": -1,
         "_deepnote_index_column": "2020-04-16T00:00:00.000000"
        },
        {
         "High": 154.99000549316406,
         "Low": 149.53199768066406,
         "Open": 154.45599365234375,
         "Close": 150.7779998779297,
         "Volume": 65641000,
         "Adj Close": 150.7779998779297,
         "Bearish Sharpe Ratio": 3.6949487733860824,
         "Bullish Sharpe Ratio": 10.492192755188764,
         "Result": 1,
         "_deepnote_index_column": "2020-04-17T00:00:00.000000"
        },
        {
         "High": 150.66600036621094,
         "Low": 134.75799560546875,
         "Open": 146.0240020751953,
         "Close": 137.343994140625,
         "Volume": 101045500,
         "Adj Close": 137.343994140625,
         "Bearish Sharpe Ratio": 2.244622123461174,
         "Bullish Sharpe Ratio": 9.134369655485786,
         "Result": 1,
         "_deepnote_index_column": "2020-04-21T00:00:00.000000"
        },
        {
         "High": 146.8000030517578,
         "Low": 137.74200439453125,
         "Open": 140.79600524902344,
         "Close": 146.4219970703125,
         "Volume": 70827500,
         "Adj Close": 146.4219970703125,
         "Bearish Sharpe Ratio": 1.2285701281709054,
         "Bullish Sharpe Ratio": 8.15064669145844,
         "Result": 1,
         "_deepnote_index_column": "2020-04-22T00:00:00.000000"
        },
        {
         "High": 146.8000030517578,
         "Low": 140.62600708007812,
         "Open": 145.52000427246094,
         "Close": 141.12600708007812,
         "Volume": 66183500,
         "Adj Close": 141.12600708007812,
         "Bearish Sharpe Ratio": 3.1054944891178624,
         "Bullish Sharpe Ratio": 10.007979683072314,
         "Result": 0,
         "_deepnote_index_column": "2020-04-23T00:00:00.000000"
        },
        {
         "High": 146.14599609375,
         "Low": 139.63600158691406,
         "Open": 142.16200256347656,
         "Close": 145.02999877929688,
         "Volume": 66060000,
         "Adj Close": 145.02999877929688,
         "Bearish Sharpe Ratio": 1.440779611444528,
         "Bullish Sharpe Ratio": 8.295705327813616,
         "Result": -1,
         "_deepnote_index_column": "2020-04-24T00:00:00.000000"
        },
        {
         "High": 159.8979949951172,
         "Low": 147,
         "Open": 147.52200317382812,
         "Close": 159.75,
         "Volume": 103407000,
         "Adj Close": 159.75,
         "Bearish Sharpe Ratio": 2.096807985086809,
         "Bullish Sharpe Ratio": 8.968632162757743,
         "Result": 0,
         "_deepnote_index_column": "2020-04-27T00:00:00.000000"
        },
        {
         "High": 161,
         "Low": 151.33799743652344,
         "Open": 159.1280059814453,
         "Close": 153.82400512695312,
         "Volume": 76110000,
         "Adj Close": 153.82400512695312,
         "Bearish Sharpe Ratio": 2.259965281746861,
         "Bullish Sharpe Ratio": 9.150868114472768,
         "Result": 0,
         "_deepnote_index_column": "2020-04-28T00:00:00.000000"
        },
        {
         "High": 168.6580047607422,
         "Low": 161.60000610351562,
         "Open": 165.39999389648438,
         "Close": 161.8820037841797,
         "Volume": 79534500,
         "Adj Close": 161.8820037841797,
         "Bearish Sharpe Ratio": -1.973474259056465,
         "Bullish Sharpe Ratio": 4.359123313119729,
         "Result": 1,
         "_deepnote_index_column": "2020-05-12T00:00:00.000000"
        },
        {
         "High": 167,
         "Low": 160.8419952392578,
         "Open": 161.75,
         "Close": 167,
         "Volume": 58822500,
         "Adj Close": 167,
         "Bearish Sharpe Ratio": -4.041883616808017,
         "Bullish Sharpe Ratio": 2.1502287834827096,
         "Result": 1,
         "_deepnote_index_column": "2020-05-29T00:00:00.000000"
        },
        {
         "High": 179.8000030517578,
         "Low": 170.82000732421875,
         "Open": 171.60000610351562,
         "Close": 179.6199951171875,
         "Volume": 74697500,
         "Adj Close": 179.6199951171875,
         "Bearish Sharpe Ratio": -2.128183133776404,
         "Bullish Sharpe Ratio": 4.416165244520132,
         "Result": 1,
         "_deepnote_index_column": "2020-06-01T00:00:00.000000"
        }
       ],
       "rows_bottom": [
        {
         "High": 358.99798583984375,
         "Low": 294.22198486328125,
         "Open": 331.79998779296875,
         "Close": 299.4119873046875,
         "Volume": 194927000,
         "Adj Close": 299.4119873046875,
         "Bearish Sharpe Ratio": 4.24154371449111,
         "Bullish Sharpe Ratio": 10.983582337890299,
         "Result": 1,
         "_deepnote_index_column": "2020-07-13T00:00:00.000000"
        },
        {
         "High": 310,
         "Low": 291.3999938964844,
         "Open": 308.6000061035156,
         "Close": 309.2019958496094,
         "Volume": 81839000,
         "Adj Close": 309.2019958496094,
         "Bearish Sharpe Ratio": 2.520275545856624,
         "Bullish Sharpe Ratio": 9.331492628518,
         "Result": 1,
         "_deepnote_index_column": "2020-07-15T00:00:00.000000"
        },
        {
         "High": 306.3420104980469,
         "Low": 293.20001220703125,
         "Open": 295.4320068359375,
         "Close": 300.12799072265625,
         "Volume": 71504000,
         "Adj Close": 300.12799072265625,
         "Bearish Sharpe Ratio": 2.4465347170190777,
         "Bullish Sharpe Ratio": 9.288734540724791,
         "Result": 0,
         "_deepnote_index_column": "2020-07-16T00:00:00.000000"
        },
        {
         "High": 337.79998779296875,
         "Low": 296.15399169921875,
         "Open": 335.7900085449219,
         "Close": 302.614013671875,
         "Volume": 121642500,
         "Adj Close": 302.614013671875,
         "Bearish Sharpe Ratio": 0.7770105350559953,
         "Bullish Sharpe Ratio": 7.692479802610475,
         "Result": 0,
         "_deepnote_index_column": "2020-07-23T00:00:00.000000"
        },
        {
         "High": 293,
         "Low": 273.3080139160156,
         "Open": 283.2019958496094,
         "Close": 283.3999938964844,
         "Volume": 96983000,
         "Adj Close": 283.3999938964844,
         "Bearish Sharpe Ratio": -3.088706858830195,
         "Bullish Sharpe Ratio": 3.070523277090251,
         "Result": 1,
         "_deepnote_index_column": "2020-07-24T00:00:00.000000"
        },
        {
         "High": 309.5880126953125,
         "Low": 282.6000061035156,
         "Open": 287,
         "Close": 307.9200134277344,
         "Volume": 80243500,
         "Adj Close": 307.9200134277344,
         "Bearish Sharpe Ratio": -4.196857048314865,
         "Bullish Sharpe Ratio": 2.1933294511185117,
         "Result": 1,
         "_deepnote_index_column": "2020-07-27T00:00:00.000000"
        },
        {
         "High": 306.9620056152344,
         "Low": 297.3999938964844,
         "Open": 300.20001220703125,
         "Close": 299.8219909667969,
         "Volume": 47134500,
         "Adj Close": 299.8219909667969,
         "Bearish Sharpe Ratio": -3.609203189472581,
         "Bullish Sharpe Ratio": 2.682156282368716,
         "Result": 1,
         "_deepnote_index_column": "2020-07-29T00:00:00.000000"
        },
        {
         "High": 302.64801025390625,
         "Low": 294.20001220703125,
         "Open": 297.6000061035156,
         "Close": 297.49798583984375,
         "Volume": 38105000,
         "Adj Close": 297.49798583984375,
         "Bearish Sharpe Ratio": -3.701387870230544,
         "Bullish Sharpe Ratio": 2.594984707076208,
         "Result": 1,
         "_deepnote_index_column": "2020-07-30T00:00:00.000000"
        },
        {
         "High": 303.4100036621094,
         "Low": 284.1960144042969,
         "Open": 303,
         "Close": 286.1520080566406,
         "Volume": 61041000,
         "Adj Close": 286.1520080566406,
         "Bearish Sharpe Ratio": -6.7452683737504335,
         "Bullish Sharpe Ratio": 0.0555558504823008,
         "Result": -1,
         "_deepnote_index_column": "2020-07-31T00:00:00.000000"
        },
        {
         "High": 301.9620056152344,
         "Low": 288.8760070800781,
         "Open": 289.8399963378906,
         "Close": 297,
         "Volume": 44046500,
         "Adj Close": 297,
         "Bearish Sharpe Ratio": -6.428752734231487,
         "Bullish Sharpe Ratio": 0.47100978172286256,
         "Result": 1,
         "_deepnote_index_column": "2020-08-03T00:00:00.000000"
        },
        {
         "High": 299.9679870605469,
         "Low": 293.6619873046875,
         "Open": 298.5979919433594,
         "Close": 297.0039978027344,
         "Volume": 24739000,
         "Adj Close": 297.0039978027344,
         "Bearish Sharpe Ratio": -4.416281670525805,
         "Bullish Sharpe Ratio": 1.9675493883583455,
         "Result": 1,
         "_deepnote_index_column": "2020-08-05T00:00:00.000000"
        },
        {
         "High": 284,
         "Low": 273,
         "Open": 279.20001220703125,
         "Close": 274.87799072265625,
         "Volume": 43129000,
         "Adj Close": 274.87799072265625,
         "Bearish Sharpe Ratio": -7.849430157563714,
         "Bullish Sharpe Ratio": -1.2756879557911438,
         "Result": 1,
         "_deepnote_index_column": "2020-08-11T00:00:00.000000"
        },
        {
         "High": 330.2359924316406,
         "Low": 313.4519958496094,
         "Open": 322.20001220703125,
         "Close": 324.20001220703125,
         "Volume": 102126500,
         "Adj Close": 324.20001220703125,
         "Bearish Sharpe Ratio": -1.3198312164040966,
         "Bullish Sharpe Ratio": 5.894999429953758,
         "Result": 0,
         "_deepnote_index_column": "2020-08-13T00:00:00.000000"
        },
        {
         "High": 333.760009765625,
         "Low": 325.3280029296875,
         "Open": 332.99798583984375,
         "Close": 330.1419982910156,
         "Volume": 62888000,
         "Adj Close": 330.1419982910156,
         "Bearish Sharpe Ratio": -0.6749503708782562,
         "Bullish Sharpe Ratio": 6.607349335841071,
         "Result": 1,
         "_deepnote_index_column": "2020-08-14T00:00:00.000000"
        },
        {
         "High": 369.1719970703125,
         "Low": 334.5660095214844,
         "Open": 335.3999938964844,
         "Close": 367.12799072265625,
         "Volume": 101211500,
         "Adj Close": 367.12799072265625,
         "Bearish Sharpe Ratio": -1.9472059490300013,
         "Bullish Sharpe Ratio": 4.634982110043378,
         "Result": 1,
         "_deepnote_index_column": "2020-08-17T00:00:00.000000"
        },
        {
         "High": 404.39801025390625,
         "Low": 371.4119873046875,
         "Open": 372.135986328125,
         "Close": 400.3659973144531,
         "Volume": 103059000,
         "Adj Close": 400.3659973144531,
         "Bearish Sharpe Ratio": -0.37801848411057865,
         "Bullish Sharpe Ratio": 6.944242909795409,
         "Result": -1,
         "_deepnote_index_column": "2020-08-20T00:00:00.000000"
        },
        {
         "High": 419.0979919433594,
         "Low": 405.010009765625,
         "Open": 408.9519958496094,
         "Close": 409.9960021972656,
         "Volume": 107448000,
         "Adj Close": 409.9960021972656,
         "Bearish Sharpe Ratio": 2.7992479516598556,
         "Bullish Sharpe Ratio": 9.668465063318525,
         "Result": 1,
         "_deepnote_index_column": "2020-08-21T00:00:00.000000"
        },
        {
         "High": 425.79998779296875,
         "Low": 385.5039978027344,
         "Open": 425.2560119628906,
         "Close": 402.8399963378906,
         "Volume": 100318000,
         "Adj Close": 402.8399963378906,
         "Bearish Sharpe Ratio": 2.92720594314204,
         "Bullish Sharpe Ratio": 9.814402580491794,
         "Result": 1,
         "_deepnote_index_column": "2020-08-24T00:00:00.000000"
        },
        {
         "High": 405.5899963378906,
         "Low": 393.6000061035156,
         "Open": 394.9779968261719,
         "Close": 404.6679992675781,
         "Volume": 53294500,
         "Adj Close": 404.6679992675781,
         "Bearish Sharpe Ratio": 0.6628498646741309,
         "Bullish Sharpe Ratio": 7.632930006322512,
         "Result": 0,
         "_deepnote_index_column": "2020-08-25T00:00:00.000000"
        },
        {
         "High": 433.20001220703125,
         "Low": 410.72601318359375,
         "Open": 412,
         "Close": 430.6340026855469,
         "Volume": 71197000,
         "Adj Close": 430.6340026855469,
         "Bearish Sharpe Ratio": 1.584274741798427,
         "Bullish Sharpe Ratio": 8.47345025798257,
         "Result": 1,
         "_deepnote_index_column": "2020-08-26T00:00:00.000000"
        },
        {
         "High": 463.697998046875,
         "Low": 437.3039855957031,
         "Open": 459.02398681640625,
         "Close": 442.67999267578125,
         "Volume": 100406000,
         "Adj Close": 442.67999267578125,
         "Bearish Sharpe Ratio": 4.560207581469116,
         "Bullish Sharpe Ratio": 11.58621263274676,
         "Result": 1,
         "_deepnote_index_column": "2020-08-28T00:00:00.000000"
        },
        {
         "High": 500.1400146484375,
         "Low": 440.1099853515625,
         "Open": 444.6099853515625,
         "Close": 498.32000732421875,
         "Volume": 118374400,
         "Adj Close": 498.32000732421875,
         "Bearish Sharpe Ratio": 4.761000341712594,
         "Bullish Sharpe Ratio": 11.804537037513674,
         "Result": 0,
         "_deepnote_index_column": "2020-08-31T00:00:00.000000"
        },
        {
         "High": 502.489990234375,
         "Low": 470.510009765625,
         "Open": 502.1400146484375,
         "Close": 475.04998779296875,
         "Volume": 89841100,
         "Adj Close": 475.04998779296875,
         "Bearish Sharpe Ratio": 5.186450647013797,
         "Bullish Sharpe Ratio": 12.245392272971197,
         "Result": 0,
         "_deepnote_index_column": "2020-09-01T00:00:00.000000"
        },
        {
         "High": 479.0400085449219,
         "Low": 405.1199951171875,
         "Open": 478.989990234375,
         "Close": 447.3699951171875,
         "Volume": 96176100,
         "Adj Close": 447.3699951171875,
         "Bearish Sharpe Ratio": 2.564922158004552,
         "Bullish Sharpe Ratio": 9.335901008918642,
         "Result": 0,
         "_deepnote_index_column": "2020-09-02T00:00:00.000000"
        },
        {
         "High": 428,
         "Low": 372.0199890136719,
         "Open": 402.80999755859375,
         "Close": 418.32000732421875,
         "Volume": 110321900,
         "Adj Close": 418.32000732421875,
         "Bearish Sharpe Ratio": -2.0042868249034234,
         "Bullish Sharpe Ratio": 4.231226408619002,
         "Result": 1,
         "_deepnote_index_column": "2020-09-04T00:00:00.000000"
        },
        {
         "High": 368.739990234375,
         "Low": 329.8800048828125,
         "Open": 356,
         "Close": 330.2099914550781,
         "Volume": 115465700,
         "Adj Close": 330.2099914550781,
         "Bearish Sharpe Ratio": -5.7623334280854115,
         "Bullish Sharpe Ratio": 1.0479156453581113,
         "Result": 0,
         "_deepnote_index_column": "2020-09-08T00:00:00.000000"
        },
        {
         "High": 369,
         "Low": 341.510009765625,
         "Open": 356.6000061035156,
         "Close": 366.2799987792969,
         "Volume": 79465800,
         "Adj Close": 366.2799987792969,
         "Bearish Sharpe Ratio": -5.361002006942984,
         "Bullish Sharpe Ratio": 1.4409038988967517,
         "Result": 1,
         "_deepnote_index_column": "2020-09-09T00:00:00.000000"
        },
        {
         "High": 398.989990234375,
         "Low": 360.55999755859375,
         "Open": 386.2099914550781,
         "Close": 371.3399963378906,
         "Volume": 84930600,
         "Adj Close": 371.3399963378906,
         "Bearish Sharpe Ratio": -3.979624797478578,
         "Bullish Sharpe Ratio": 2.3520913388807854,
         "Result": 1,
         "_deepnote_index_column": "2020-09-10T00:00:00.000000"
        },
        {
         "High": 382.5,
         "Low": 360.5,
         "Open": 381.94000244140625,
         "Close": 372.7200012207031,
         "Volume": 60717500,
         "Adj Close": 372.7200012207031,
         "Bearish Sharpe Ratio": -5.871485593977321,
         "Bullish Sharpe Ratio": 1.0328174802761103,
         "Result": 1,
         "_deepnote_index_column": "2020-09-11T00:00:00.000000"
        },
        {
         "High": 420,
         "Low": 373.29998779296875,
         "Open": 380.95001220703125,
         "Close": 419.6199951171875,
         "Volume": 83020600,
         "Adj Close": 419.6199951171875,
         "Bearish Sharpe Ratio": -6.515958967402182,
         "Bullish Sharpe Ratio": 0.32535130829336784,
         "Result": -1,
         "_deepnote_index_column": "2020-09-14T00:00:00.000000"
        },
        {
         "High": 461.94000244140625,
         "Low": 430.70001220703125,
         "Open": 436.55999755859375,
         "Close": 449.760009765625,
         "Volume": 97298200,
         "Adj Close": 449.760009765625,
         "Bearish Sharpe Ratio": -3.1889801566780305,
         "Bullish Sharpe Ratio": 2.980343245117848,
         "Result": 0,
         "_deepnote_index_column": "2020-09-15T00:00:00.000000"
        },
        {
         "High": 451,
         "Low": 428.79998779296875,
         "Open": 447.94000244140625,
         "Close": 442.1499938964844,
         "Volume": 86406800,
         "Adj Close": 442.1499938964844,
         "Bearish Sharpe Ratio": -4.900875281758701,
         "Bullish Sharpe Ratio": 1.7844848880627036,
         "Result": 0,
         "_deepnote_index_column": "2020-09-18T00:00:00.000000"
        },
        {
         "High": 437.760009765625,
         "Low": 417.6000061035156,
         "Open": 429.6000061035156,
         "Close": 424.2300109863281,
         "Volume": 79580800,
         "Adj Close": 424.2300109863281,
         "Bearish Sharpe Ratio": -7.1123430357565764,
         "Bullish Sharpe Ratio": -0.3618301745639915,
         "Result": 1,
         "_deepnote_index_column": "2020-09-22T00:00:00.000000"
        },
        {
         "High": 412.1499938964844,
         "Low": 375.8800048828125,
         "Open": 405.1600036621094,
         "Close": 380.3599853515625,
         "Volume": 95074200,
         "Adj Close": 380.3599853515625,
         "Bearish Sharpe Ratio": -7.248187442476344,
         "Bullish Sharpe Ratio": -0.5012409837297034,
         "Result": -1,
         "_deepnote_index_column": "2020-09-23T00:00:00.000000"
        },
        {
         "High": 399.5,
         "Low": 351.29998779296875,
         "Open": 363.79998779296875,
         "Close": 387.7900085449219,
         "Volume": 96561100,
         "Adj Close": 387.7900085449219,
         "Bearish Sharpe Ratio": -6.686071127062211,
         "Bullish Sharpe Ratio": 0.14144786023420686,
         "Result": 1,
         "_deepnote_index_column": "2020-09-24T00:00:00.000000"
        },
        {
         "High": 408.7300109863281,
         "Low": 391.29998779296875,
         "Open": 393.4700012207031,
         "Close": 407.3399963378906,
         "Volume": 67208500,
         "Adj Close": 407.3399963378906,
         "Bearish Sharpe Ratio": -4.96662806139604,
         "Bullish Sharpe Ratio": 1.6832459798313768,
         "Result": 1,
         "_deepnote_index_column": "2020-09-25T00:00:00.000000"
        },
        {
         "High": 433.92999267578125,
         "Low": 420.4700012207031,
         "Open": 421.32000732421875,
         "Close": 429.010009765625,
         "Volume": 48145600,
         "Adj Close": 429.010009765625,
         "Bearish Sharpe Ratio": -3.141052992047967,
         "Bullish Sharpe Ratio": 3.0652953255185627,
         "Result": 1,
         "_deepnote_index_column": "2020-09-30T00:00:00.000000"
        },
        {
         "High": 448.8800048828125,
         "Low": 434.4200134277344,
         "Open": 440.760009765625,
         "Close": 448.1600036621094,
         "Volume": 50741500,
         "Adj Close": 448.1600036621094,
         "Bearish Sharpe Ratio": -2.290865030854458,
         "Bullish Sharpe Ratio": 3.870792785091705,
         "Result": 1,
         "_deepnote_index_column": "2020-10-01T00:00:00.000000"
        },
        {
         "High": 439.1300048828125,
         "Low": 415,
         "Open": 421.3900146484375,
         "Close": 415.0899963378906,
         "Volume": 71430000,
         "Adj Close": 415.0899963378906,
         "Bearish Sharpe Ratio": -2.8973424350742527,
         "Bullish Sharpe Ratio": 3.2487464530056136,
         "Result": -1,
         "_deepnote_index_column": "2020-10-02T00:00:00.000000"
        },
        {
         "High": 433.6400146484375,
         "Low": 419.3299865722656,
         "Open": 423.3500061035156,
         "Close": 425.67999267578125,
         "Volume": 44722800,
         "Adj Close": 425.67999267578125,
         "Bearish Sharpe Ratio": -5.359804927163491,
         "Bullish Sharpe Ratio": 1.3420532284087852,
         "Result": 1,
         "_deepnote_index_column": "2020-10-05T00:00:00.000000"
        },
        {
         "High": 428.7799987792969,
         "Low": 406.04998779296875,
         "Open": 423.7900085449219,
         "Close": 413.9800109863281,
         "Volume": 49146300,
         "Adj Close": 413.9800109863281,
         "Bearish Sharpe Ratio": -5.543470446544157,
         "Bullish Sharpe Ratio": 1.2150807370928012,
         "Result": 1,
         "_deepnote_index_column": "2020-10-06T00:00:00.000000"
        },
        {
         "High": 429.8999938964844,
         "Low": 413.8500061035156,
         "Open": 419.8699951171875,
         "Close": 425.29998779296875,
         "Volume": 43127700,
         "Adj Close": 425.29998779296875,
         "Bearish Sharpe Ratio": -4.443043422835531,
         "Bullish Sharpe Ratio": 1.9419713727436303,
         "Result": 0,
         "_deepnote_index_column": "2020-10-07T00:00:00.000000"
        },
        {
         "High": 439,
         "Low": 425.29998779296875,
         "Open": 438.44000244140625,
         "Close": 425.9200134277344,
         "Volume": 40421100,
         "Adj Close": 425.9200134277344,
         "Bearish Sharpe Ratio": -5.164519444764231,
         "Bullish Sharpe Ratio": 1.412260971153532,
         "Result": 0,
         "_deepnote_index_column": "2020-10-08T00:00:00.000000"
        },
        {
         "High": 434.5899963378906,
         "Low": 426.4599914550781,
         "Open": 430.1300048828125,
         "Close": 434,
         "Volume": 28925700,
         "Adj Close": 434,
         "Bearish Sharpe Ratio": -6.098755470616359,
         "Bullish Sharpe Ratio": 0.7536160491048803,
         "Result": 0,
         "_deepnote_index_column": "2020-10-09T00:00:00.000000"
        },
        {
         "High": 448.8900146484375,
         "Low": 436.6000061035156,
         "Open": 443.3500061035156,
         "Close": 446.6499938964844,
         "Volume": 34463700,
         "Adj Close": 446.6499938964844,
         "Bearish Sharpe Ratio": -2.6627743335547485,
         "Bullish Sharpe Ratio": 3.561473261105351,
         "Result": 1,
         "_deepnote_index_column": "2020-10-13T00:00:00.000000"
        },
        {
         "High": 465.8999938964844,
         "Low": 447.3500061035156,
         "Open": 449.7799987792969,
         "Close": 461.29998779296875,
         "Volume": 47879700,
         "Adj Close": 461.29998779296875,
         "Bearish Sharpe Ratio": 1.6602365584814236,
         "Bullish Sharpe Ratio": 8.659332789653819,
         "Result": 1,
         "_deepnote_index_column": "2020-10-14T00:00:00.000000"
        },
        {
         "High": 456.57000732421875,
         "Low": 442.5,
         "Open": 450.30999755859375,
         "Close": 448.8800048828125,
         "Volume": 35672400,
         "Adj Close": 448.8800048828125,
         "Bearish Sharpe Ratio": -0.21083248925200565,
         "Bullish Sharpe Ratio": 7.068098415513429,
         "Result": 0,
         "_deepnote_index_column": "2020-10-15T00:00:00.000000"
        },
        {
         "High": 455.95001220703125,
         "Low": 438.8500061035156,
         "Open": 454.44000244140625,
         "Close": 439.6700134277344,
         "Volume": 32775900,
         "Adj Close": 439.6700134277344,
         "Bearish Sharpe Ratio": -2.184752891815226,
         "Bullish Sharpe Ratio": 4.363260353557331,
         "Result": 0,
         "_deepnote_index_column": "2020-10-16T00:00:00.000000"
        },
        {
         "High": 447,
         "Low": 428.8699951171875,
         "Open": 446.239990234375,
         "Close": 430.8299865722656,
         "Volume": 36287800,
         "Adj Close": 430.8299865722656,
         "Bearish Sharpe Ratio": -2.0971580686434286,
         "Bullish Sharpe Ratio": 4.53375504477368,
         "Result": -1,
         "_deepnote_index_column": "2020-10-19T00:00:00.000000"
        },
        {
         "High": 431.75,
         "Low": 419.04998779296875,
         "Open": 431.75,
         "Close": 421.94000244140625,
         "Volume": 31656300,
         "Adj Close": 421.94000244140625,
         "Bearish Sharpe Ratio": -3.7770385404396856,
         "Bullish Sharpe Ratio": 2.454553118467924,
         "Result": 1,
         "_deepnote_index_column": "2020-10-20T00:00:00.000000"
        },
        {
         "High": 445.2300109863281,
         "Low": 424.510009765625,
         "Open": 441.9200134277344,
         "Close": 425.7900085449219,
         "Volume": 39993200,
         "Adj Close": 425.7900085449219,
         "Bearish Sharpe Ratio": -2.7819267800856995,
         "Bullish Sharpe Ratio": 3.4858520983014385,
         "Result": 0,
         "_deepnote_index_column": "2020-10-22T00:00:00.000000"
        },
        {
         "High": 422.8900146484375,
         "Low": 407.3800048828125,
         "Open": 421.8399963378906,
         "Close": 420.6300048828125,
         "Volume": 33717000,
         "Adj Close": 420.6300048828125,
         "Bearish Sharpe Ratio": -4.95309955215656,
         "Bullish Sharpe Ratio": 1.4248550276008276,
         "Result": 1,
         "_deepnote_index_column": "2020-10-23T00:00:00.000000"
        },
        {
         "High": 425.760009765625,
         "Low": 410,
         "Open": 411.6300048828125,
         "Close": 420.2799987792969,
         "Volume": 28239200,
         "Adj Close": 420.2799987792969,
         "Bearish Sharpe Ratio": -6.251374584273178,
         "Bullish Sharpe Ratio": 0.5274495227539184,
         "Result": 1,
         "_deepnote_index_column": "2020-10-26T00:00:00.000000"
        },
        {
         "High": 430.5,
         "Low": 420.1000061035156,
         "Open": 423.760009765625,
         "Close": 424.67999267578125,
         "Volume": 22686500,
         "Adj Close": 424.67999267578125,
         "Bearish Sharpe Ratio": -4.542501551974142,
         "Bullish Sharpe Ratio": 1.9181141167229776,
         "Result": 0,
         "_deepnote_index_column": "2020-10-27T00:00:00.000000"
        },
        {
         "High": 418.05999755859375,
         "Low": 406.4599914550781,
         "Open": 409.9599914550781,
         "Close": 410.8299865722656,
         "Volume": 22655300,
         "Adj Close": 410.8299865722656,
         "Bearish Sharpe Ratio": -7.184064379017768,
         "Bullish Sharpe Ratio": -0.45797587247646854,
         "Result": 0,
         "_deepnote_index_column": "2020-10-29T00:00:00.000000"
        },
        {
         "High": 407.5899963378906,
         "Low": 379.1099853515625,
         "Open": 406.8999938964844,
         "Close": 388.0400085449219,
         "Volume": 42511300,
         "Adj Close": 388.0400085449219,
         "Bearish Sharpe Ratio": -9.108177457477327,
         "Bullish Sharpe Ratio": -2.1981016950921273,
         "Result": 1,
         "_deepnote_index_column": "2020-10-30T00:00:00.000000"
        }
       ]
      },
      "text/plain": "                  High         Low        Open       Close      Volume  \\\nDate                                                                     \n2019-11-05   64.702003   63.223999   63.924000   63.444000  34717000.0   \n2019-11-07   68.300003   65.603996   65.828003   67.108002  72336500.0   \n2019-11-13   71.265999   69.036003   71.000000   69.222000  42100500.0   \n2019-11-21   72.167999   70.800003   70.902000   70.966003  30550000.0   \n2019-11-29   66.251999   65.500000   66.222000   65.987999  12328000.0   \n...                ...         ...         ...         ...         ...   \n2020-10-23  422.890015  407.380005  421.839996  420.630005  33717000.0   \n2020-10-26  425.760010  410.000000  411.630005  420.279999  28239200.0   \n2020-10-27  430.500000  420.100006  423.760010  424.679993  22686500.0   \n2020-10-29  418.059998  406.459991  409.959991  410.829987  22655300.0   \n2020-10-30  407.589996  379.109985  406.899994  388.040009  42511300.0   \n\n             Adj Close  Bearish Sharpe Ratio  Bullish Sharpe Ratio  Result  \nDate                                                                        \n2019-11-05   63.444000             -0.402033              6.877432     1.0  \n2019-11-07   67.108002             -0.093696              7.137966     0.0  \n2019-11-13   69.222000              1.516495              8.572674     0.0  \n2019-11-21   70.966003              2.453394              9.502299    -1.0  \n2019-11-29   65.987999             -5.365439              1.063480    -1.0  \n...                ...                   ...                   ...     ...  \n2020-10-23  420.630005             -4.953100              1.424855     1.0  \n2020-10-26  420.279999             -6.251375              0.527450     1.0  \n2020-10-27  424.679993             -4.542502              1.918114     0.0  \n2020-10-29  410.829987             -7.184064             -0.457976     0.0  \n2020-10-30  388.040009             -9.108177             -2.198102     1.0  \n\n[124 rows x 9 columns]",
      "text/html": "<div>\n<style scoped>\n    .dataframe tbody tr th:only-of-type {\n        vertical-align: middle;\n    }\n\n    .dataframe tbody tr th {\n        vertical-align: top;\n    }\n\n    .dataframe thead th {\n        text-align: right;\n    }\n</style>\n<table border=\"1\" class=\"dataframe\">\n  <thead>\n    <tr style=\"text-align: right;\">\n      <th></th>\n      <th>High</th>\n      <th>Low</th>\n      <th>Open</th>\n      <th>Close</th>\n      <th>Volume</th>\n      <th>Adj Close</th>\n      <th>Bearish Sharpe Ratio</th>\n      <th>Bullish Sharpe Ratio</th>\n      <th>Result</th>\n    </tr>\n    <tr>\n      <th>Date</th>\n      <th></th>\n      <th></th>\n      <th></th>\n      <th></th>\n      <th></th>\n      <th></th>\n      <th></th>\n      <th></th>\n      <th></th>\n    </tr>\n  </thead>\n  <tbody>\n    <tr>\n      <th>2019-11-05</th>\n      <td>64.702003</td>\n      <td>63.223999</td>\n      <td>63.924000</td>\n      <td>63.444000</td>\n      <td>34717000.0</td>\n      <td>63.444000</td>\n      <td>-0.402033</td>\n      <td>6.877432</td>\n      <td>1.0</td>\n    </tr>\n    <tr>\n      <th>2019-11-07</th>\n      <td>68.300003</td>\n      <td>65.603996</td>\n      <td>65.828003</td>\n      <td>67.108002</td>\n      <td>72336500.0</td>\n      <td>67.108002</td>\n      <td>-0.093696</td>\n      <td>7.137966</td>\n      <td>0.0</td>\n    </tr>\n    <tr>\n      <th>2019-11-13</th>\n      <td>71.265999</td>\n      <td>69.036003</td>\n      <td>71.000000</td>\n      <td>69.222000</td>\n      <td>42100500.0</td>\n      <td>69.222000</td>\n      <td>1.516495</td>\n      <td>8.572674</td>\n      <td>0.0</td>\n    </tr>\n    <tr>\n      <th>2019-11-21</th>\n      <td>72.167999</td>\n      <td>70.800003</td>\n      <td>70.902000</td>\n      <td>70.966003</td>\n      <td>30550000.0</td>\n      <td>70.966003</td>\n      <td>2.453394</td>\n      <td>9.502299</td>\n      <td>-1.0</td>\n    </tr>\n    <tr>\n      <th>2019-11-29</th>\n      <td>66.251999</td>\n      <td>65.500000</td>\n      <td>66.222000</td>\n      <td>65.987999</td>\n      <td>12328000.0</td>\n      <td>65.987999</td>\n      <td>-5.365439</td>\n      <td>1.063480</td>\n      <td>-1.0</td>\n    </tr>\n    <tr>\n      <th>...</th>\n      <td>...</td>\n      <td>...</td>\n      <td>...</td>\n      <td>...</td>\n      <td>...</td>\n      <td>...</td>\n      <td>...</td>\n      <td>...</td>\n      <td>...</td>\n    </tr>\n    <tr>\n      <th>2020-10-23</th>\n      <td>422.890015</td>\n      <td>407.380005</td>\n      <td>421.839996</td>\n      <td>420.630005</td>\n      <td>33717000.0</td>\n      <td>420.630005</td>\n      <td>-4.953100</td>\n      <td>1.424855</td>\n      <td>1.0</td>\n    </tr>\n    <tr>\n      <th>2020-10-26</th>\n      <td>425.760010</td>\n      <td>410.000000</td>\n      <td>411.630005</td>\n      <td>420.279999</td>\n      <td>28239200.0</td>\n      <td>420.279999</td>\n      <td>-6.251375</td>\n      <td>0.527450</td>\n      <td>1.0</td>\n    </tr>\n    <tr>\n      <th>2020-10-27</th>\n      <td>430.500000</td>\n      <td>420.100006</td>\n      <td>423.760010</td>\n      <td>424.679993</td>\n      <td>22686500.0</td>\n      <td>424.679993</td>\n      <td>-4.542502</td>\n      <td>1.918114</td>\n      <td>0.0</td>\n    </tr>\n    <tr>\n      <th>2020-10-29</th>\n      <td>418.059998</td>\n      <td>406.459991</td>\n      <td>409.959991</td>\n      <td>410.829987</td>\n      <td>22655300.0</td>\n      <td>410.829987</td>\n      <td>-7.184064</td>\n      <td>-0.457976</td>\n      <td>0.0</td>\n    </tr>\n    <tr>\n      <th>2020-10-30</th>\n      <td>407.589996</td>\n      <td>379.109985</td>\n      <td>406.899994</td>\n      <td>388.040009</td>\n      <td>42511300.0</td>\n      <td>388.040009</td>\n      <td>-9.108177</td>\n      <td>-2.198102</td>\n      <td>1.0</td>\n    </tr>\n  </tbody>\n</table>\n<p>124 rows × 9 columns</p>\n</div>"
     },
     "metadata": {}
    }
   ]
  },
  {
   "cell_type": "code",
   "metadata": {
    "tags": [],
    "deepnote_to_be_reexecuted": false,
    "source_hash": "56f1cda9",
    "execution_millis": 2343,
    "cell_id": "00006-03ee7543-382e-4d49-af40-0f848225e076",
    "execution_start": 1618344962473,
    "deepnote_cell_type": "code"
   },
   "source": "import gym_anytrading\nimport gym \nfrom gym_anytrading.envs import StocksEnv\nfrom stable_baselines3 import PPO",
   "execution_count": null,
   "outputs": []
  },
  {
   "cell_type": "markdown",
   "source": "## Model 1\n\nEnvironment: Our agent can observe the past 5 days\nAction: Buy or Sell\nThe green and red dots: Whether it is taking a short or long position\n",
   "metadata": {
    "tags": [],
    "cell_id": "00007-7cf33f12-b940-499c-badf-0d09d453e6a4",
    "deepnote_cell_type": "markdown"
   }
  },
  {
   "cell_type": "code",
   "metadata": {
    "tags": [],
    "deepnote_to_be_reexecuted": false,
    "source_hash": "2f05a75b",
    "execution_millis": 58816,
    "output_cleared": false,
    "cell_id": "00008-05a583dc-5b0b-4612-8f97-6dbd64484f5d",
    "execution_start": 1618344964827,
    "deepnote_output_heights": [
     null,
     408
    ],
    "deepnote_cell_type": "code"
   },
   "source": "def add_signals_m1(env):\n    start = env.frame_bound[0] - env.window_size\n    end = env.frame_bound[1]\n    prices = env.df.loc[:,'Open'].to_numpy()[start:end]\n    signals = env.df.loc[:,['Open']].to_numpy()[start:end]\n    return prices, signals\n\nclass CustomEnv1(StocksEnv):\n    _process_data = add_signals_m1\n\nmodel1Env = CustomEnv1(df=joined_df, frame_bound = (5, 55), window_size = 5)\nmodel1 = PPO('MlpPolicy', model1Env, seed = 4106)\nmodel1.learn(total_timesteps= 50000)\nmodel1Env = CustomEnv1(df=joined_df, frame_bound = (55, 100), window_size = 5)\nobs = model1Env.reset()\n\nwhile True:\n    obs = obs[np.newaxis,...]\n    action, _states = model1.predict(obs)\n    obs, reward, done, info = model1Env.step(action)\n    if done:\n        print(\"Information : \", info)\n        plt.figure(figsize=(12,6))\n        model1Env.render_all()\n        plt.show()\n        break",
   "execution_count": null,
   "outputs": [
    {
     "name": "stdout",
     "text": "Information :  {'total_reward': 276.0559997558594, 'total_profit': 2.167202601930748, 'position': 0}\n",
     "output_type": "stream"
    },
    {
     "data": {
      "text/plain": "<Figure size 864x432 with 1 Axes>",
      "image/png": "[encoded data removed]"
     },
     "metadata": {
      "needs_background": "light",
      "image/png": {
       "width": 716,
       "height": 406
      }
     },
     "output_type": "display_data"
    }
   ]
  },
  {
   "cell_type": "code",
   "metadata": {
    "tags": [],
    "deepnote_to_be_reexecuted": false,
    "source_hash": "89c0213b",
    "execution_millis": 206,
    "cell_id": "00009-9c05f287-9ef8-4230-90bf-12bb3d84ad5e",
    "execution_start": 1618345023636,
    "deepnote_output_heights": [
     null,
     408
    ],
    "deepnote_cell_type": "code"
   },
   "source": "obs = model1Env.reset()\nwhile True:\n    obs = obs[np.newaxis,...]\n    action, _states = model1.predict(obs)\n    action = np.array(random.randint(0, 2)).astype(int)\n    obs, reward, done, info = model1Env.step(action)\n    if done:\n        print(\"Information : \", info)\n        plt.figure(figsize=(12,6))\n        model1Env.render_all()\n        plt.show()\n        break",
   "execution_count": null,
   "outputs": [
    {
     "name": "stdout",
     "text": "Information :  {'total_reward': 92.70201110839844, 'total_profit': 1.1586723906425247, 'position': 0}\n",
     "output_type": "stream"
    },
    {
     "data": {
      "text/plain": "<Figure size 864x432 with 1 Axes>",
      "image/png": "[encoded data removed]"
     },
     "metadata": {
      "needs_background": "light",
      "image/png": {
       "width": 716,
       "height": 406
      }
     },
     "output_type": "display_data"
    }
   ]
  },
  {
   "cell_type": "markdown",
   "source": "## Model 2\n\n",
   "metadata": {
    "tags": [],
    "cell_id": "00010-96297332-7e57-4d90-88ed-37f7e4420c14",
    "deepnote_cell_type": "markdown"
   }
  },
  {
   "cell_type": "code",
   "metadata": {
    "tags": [],
    "deepnote_to_be_reexecuted": false,
    "source_hash": "d8004553",
    "execution_millis": 57062,
    "cell_id": "00011-b3865135-60fa-49dc-9709-7c3145fd76e0",
    "execution_start": 1618345023846,
    "deepnote_output_heights": [
     null,
     408
    ],
    "deepnote_cell_type": "code"
   },
   "source": "def add_signals_m2(env):\n    start = env.frame_bound[0] - env.window_size\n    end = env.frame_bound[1]\n    prices = env.df.loc[:,'Open'].to_numpy()[start:end]\n    signals = env.df.loc[:,['Open','Result']].to_numpy()[start:end]\n    return prices, signals\n\n    \nclass CustomEnv2(StocksEnv):\n    _process_data = add_signals_m2\n\nmodel2Env = CustomEnv2(df=joined_df, frame_bound = (5, 55), window_size = 5)\nmodel2 = PPO('MlpPolicy', model2Env, seed = 4106)\nmodel2.learn(total_timesteps= 50000)\nmodel2Env = CustomEnv2(df=joined_df, frame_bound = (55, 100), window_size = 5)\nobs = model2Env.reset()\n\nwhile True:\n    obs = obs[np.newaxis,...]\n    action, _states = model2.predict(obs)\n    obs, reward, done, info = model2Env.step(action)\n    if done:\n        print(\"Information : \", info)\n        plt.figure(figsize=(12,6))\n        model2Env.render_all()\n        plt.show()\n        break\n\n",
   "execution_count": null,
   "outputs": [
    {
     "name": "stdout",
     "text": "Information :  {'total_reward': 57.692047119140625, 'total_profit': 1.1124050546844082, 'position': 1}\n",
     "output_type": "stream"
    },
    {
     "data": {
      "text/plain": "<Figure size 864x432 with 1 Axes>",
      "image/png": "[encoded data removed]"
     },
     "metadata": {
      "needs_background": "light",
      "image/png": {
       "width": 716,
       "height": 406
      }
     },
     "output_type": "display_data"
    }
   ]
  },
  {
   "cell_type": "markdown",
   "source": "## Model 3",
   "metadata": {
    "tags": [],
    "cell_id": "00012-6b265e47-76bd-4284-a8ae-b28a43669c0b",
    "deepnote_cell_type": "markdown"
   }
  },
  {
   "cell_type": "code",
   "metadata": {
    "tags": [],
    "deepnote_to_be_reexecuted": false,
    "source_hash": "92153a51",
    "execution_millis": 57469,
    "cell_id": "00013-ddad03ef-8852-4913-ac7c-e00218b2741f",
    "execution_start": 1618345080903,
    "deepnote_output_heights": [
     null,
     408
    ],
    "deepnote_cell_type": "code"
   },
   "source": "def add_signals_m3(env):\n    start = env.frame_bound[0] - env.window_size\n    end = env.frame_bound[1]\n    prices = env.df.loc[:,'Open'].to_numpy()[start:end]\n    signals = env.df.loc[:,['Open','Bearish Sharpe Ratio','Bullish Sharpe Ratio']].to_numpy()[start:end]\n    return prices, signals\n    \nclass CustomEnv3(StocksEnv):\n    _process_data = add_signals_m3\n\nmodel3Env = CustomEnv3(df=joined_df, frame_bound = (5, 55), window_size = 5)\nmodel3 = PPO('MlpPolicy', model3Env, seed = 4106)\nmodel3.learn(total_timesteps= 50000)\nmodel3Env = CustomEnv3(df=joined_df, frame_bound = (55, 100), window_size = 5)\nobs = model3Env.reset()\n\nwhile True:\n    obs = obs[np.newaxis,...]\n    action, _states = model3.predict(obs)\n    obs, reward, done, info = model3Env.step(action)\n    if done:\n        print(\"Information : \", info)\n        plt.figure(figsize=(12,6))\n        model3Env.render_all()\n        plt.show()\n        break",
   "execution_count": null,
   "outputs": [
    {
     "name": "stdout",
     "text": "Information :  {'total_reward': 20.293914794921875, 'total_profit': 0.9844848223879933, 'position': 0}\n",
     "output_type": "stream"
    },
    {
     "data": {
      "text/plain": "<Figure size 864x432 with 1 Axes>",
      "image/png": "[encoded data removed]"
     },
     "metadata": {
      "needs_background": "light",
      "image/png": {
       "width": 716,
       "height": 406
      }
     },
     "output_type": "display_data"
    }
   ]
  },
  {
   "cell_type": "markdown",
   "source": "## Model 4",
   "metadata": {
    "tags": [],
    "cell_id": "00014-263646d9-add6-495b-9c68-6c757512cfb0",
    "deepnote_cell_type": "markdown"
   }
  },
  {
   "cell_type": "code",
   "metadata": {
    "tags": [],
    "deepnote_to_be_reexecuted": false,
    "source_hash": "1927eafb",
    "execution_millis": 57507,
    "cell_id": "00016-b4a1215b-02ae-4f5e-9310-42ebb9778b82",
    "execution_start": 1618345138385,
    "deepnote_output_heights": [
     null,
     408
    ],
    "deepnote_cell_type": "code"
   },
   "source": "def add_signals_m4(env):\n    start = env.frame_bound[0] - env.window_size\n    end = env.frame_bound[1]\n    prices = env.df.loc[:,'Open'].to_numpy()[start:end]\n    signals = env.df.loc[:,['Open','Bearish Sharpe Ratio','Bullish Sharpe Ratio','Result']].to_numpy()[start:end]\n    return prices, signals\n\nclass CustomEnv4(StocksEnv):\n    _process_data = add_signals_m4\n\nmodel4Env = CustomEnv4(df=joined_df, frame_bound = (5, 55), window_size = 5)\nmodel4 = PPO('MlpPolicy', model4Env, seed = 4106)\nmodel4.learn(total_timesteps= 50000)\nmodel4Env = CustomEnv4(df=joined_df, frame_bound = (55, 100), window_size = 5)\nobs = model4Env.reset()\n\nwhile True:\n    obs = obs[np.newaxis,...]\n    action, _states = model4.predict(obs)\n    obs, reward, done, info = model4Env.step(action)\n    if done:\n        print(\"Information : \", info)\n        plt.figure(figsize=(12,6))\n        model4Env.render_all()\n        plt.show()\n        break",
   "execution_count": null,
   "outputs": [
    {
     "name": "stdout",
     "text": "Information :  {'total_reward': 163.798095703125, 'total_profit': 1.6309040660260836, 'position': 1}\n",
     "output_type": "stream"
    },
    {
     "data": {
      "text/plain": "<Figure size 864x432 with 1 Axes>",
      "image/png": "[encoded data removed]"
     },
     "metadata": {
      "needs_background": "light",
      "image/png": {
       "width": 716,
       "height": 406
      }
     },
     "output_type": "display_data"
    }
   ]
  },
  {
   "cell_type": "code",
   "metadata": {
    "tags": [],
    "cell_id": "00016-cfd7317b-c7ea-46e7-a41f-f36d17e93928",
    "deepnote_to_be_reexecuted": false,
    "source_hash": "ef38487b",
    "execution_millis": 5,
    "execution_start": 1618345195887,
    "deepnote_cell_type": "code"
   },
   "source": "print(\"> max_possible_profit:\", model4Env.max_possible_profit())\n",
   "execution_count": null,
   "outputs": [
    {
     "name": "stdout",
     "text": "> max_possible_profit: 6.3634569838043795\n",
     "output_type": "stream"
    }
   ]
  },
  {
   "cell_type": "markdown",
   "source": "<a style='text-decoration:none;line-height:16px;display:flex;color:#5B5B62;padding:10px;justify-content:end;' href='https://deepnote.com?utm_source=created-in-deepnote-cell&projectId=3199436c-4945-4a54-b3fa-76d3009af8b2' target=\"_blank\">\n<img alt='Created in deepnote.com' style='display:inline;max-height:16px;margin:0px;margin-right:7.5px;' src='data:image/svg+xml;base64,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' > </img>\nCreated in <span style='font-weight:600;margin-left:4px;'>Deepnote</span></a>",
   "metadata": {
    "tags": [],
    "created_in_deepnote_cell": true,
    "deepnote_cell_type": "markdown"
   }
  }
 ],
 "nbformat": 4,
 "nbformat_minor": 2,
 "metadata": {
  "deepnoteSessionId": "dea8a0f5-35e3-4468-94eb-804ff5fc7baa",
  "kernelspec": {
   "display_name": "Python 3",
   "language": "python",
   "name": "python3"
  },
  "language_info": {
   "codemirror_mode": {
    "name": "ipython",
    "version": 3
   },
   "file_extension": ".py",
   "mimetype": "text/x-python",
   "name": "python",
   "nbconvert_exporter": "python",
   "pygments_lexer": "ipython3",
   "version": "3.7.5"
  },
  "deepnote_execution_queue": [],
  "deepnote_notebook_id": "b5059f79-6f52-4b00-9dec-990eff94a03f",
  "deepnote": {
   "is_reactive": false
  }
 }
}